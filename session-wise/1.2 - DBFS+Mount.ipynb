{
 "cells": [
  {
   "cell_type": "markdown",
   "metadata": {
    "application/vnd.databricks.v1+cell": {
     "cellMetadata": {},
     "inputWidgets": {},
     "nuid": "c82fcdef-6e74-4f86-b1cb-03b2c49be389",
     "showTitle": false,
     "title": ""
    }
   },
   "source": [
    "# DBFS (Databricks File System)\n",
    "\n",
    "- DBFS is a distributed file system installed on Databricks clusters. \n",
    "- It allows you to perform file I/O operations seamlessly across various storage backends Databricks supports(such as s3, adls, gcs)\n",
    "- DBFS is integrated with Databricks notebooks, jobs, and services, providing a unified data source for big data processing and analysis."
   ]
  },
  {
   "cell_type": "markdown",
   "metadata": {
    "application/vnd.databricks.v1+cell": {
     "cellMetadata": {},
     "inputWidgets": {},
     "nuid": "08bda073-8ff4-4bd2-8ccd-b6f6fd91913f",
     "showTitle": false,
     "title": ""
    }
   },
   "source": [
    "## What is Mounting in Databricks: \n",
    "\n",
    "- In Databricks, mounting refers to the process of connecting an external storage system to Databricks so that it can be accessed like a local file system. \n",
    "- This allows you to easily read from or write data to cloud storage services such as Azure Blob Storage, Azure Data Lake, Amazon S3, or Google Cloud Storage, without needing to worry about the underlying storage access mechanisms."
   ]
  },
  {
   "cell_type": "code",
   "execution_count": 0,
   "metadata": {
    "application/vnd.databricks.v1+cell": {
     "cellMetadata": {
      "byteLimit": 2048000,
      "rowLimit": 10000
     },
     "inputWidgets": {},
     "nuid": "d6df6a98-a0b6-4fa2-b767-a1bb82b84214",
     "showTitle": true,
     "title": "DBFS mounting from ADLS container"
    }
   },
   "outputs": [
    {
     "output_type": "stream",
     "name": "stdout",
     "output_type": "stream",
     "text": [
      "Mounting......\nAn error occurred while calling o396.mount.\n: java.io.FileNotFoundException: /: No such file or directory.\n\tat shaded.databricks.org.apache.hadoop.fs.azure.NativeAzureFileSystem.getFileStatus(NativeAzureFileSystem.java:2485)\n\tat com.databricks.backend.daemon.dbutils.DBUtilsCore.verifyAzureFileSystem(DBUtilsCore.scala:1161)\n\tat com.databricks.backend.daemon.dbutils.DBUtilsCore.createOrUpdateMount(DBUtilsCore.scala:1031)\n\tat com.databricks.backend.daemon.dbutils.DBUtilsCore.$anonfun$mount$1(DBUtilsCore.scala:1079)\n\tat com.databricks.logging.UsageLogging.$anonfun$recordOperation$1(UsageLogging.scala:571)\n\tat com.databricks.logging.UsageLogging.executeThunkAndCaptureResultTags$1(UsageLogging.scala:667)\n\tat com.databricks.logging.UsageLogging.$anonfun$recordOperationWithResultTags$4(UsageLogging.scala:685)\n\tat com.databricks.logging.UsageLogging.$anonfun$withAttributionContext$1(UsageLogging.scala:426)\n\tat scala.util.DynamicVariable.withValue(DynamicVariable.scala:62)\n\tat com.databricks.logging.AttributionContext$.withValue(AttributionContext.scala:196)\n\tat com.databricks.logging.UsageLogging.withAttributionContext(UsageLogging.scala:424)\n\tat com.databricks.logging.UsageLogging.withAttributionContext$(UsageLogging.scala:418)\n\tat com.databricks.backend.daemon.dbutils.FSUtils.withAttributionContext(DBUtilsCore.scala:71)\n\tat com.databricks.logging.UsageLogging.withAttributionTags(UsageLogging.scala:470)\n\tat com.databricks.logging.UsageLogging.withAttributionTags$(UsageLogging.scala:455)\n\tat com.databricks.backend.daemon.dbutils.FSUtils.withAttributionTags(DBUtilsCore.scala:71)\n\tat com.databricks.logging.UsageLogging.recordOperationWithResultTags(UsageLogging.scala:662)\n\tat com.databricks.logging.UsageLogging.recordOperationWithResultTags$(UsageLogging.scala:580)\n\tat com.databricks.backend.daemon.dbutils.FSUtils.recordOperationWithResultTags(DBUtilsCore.scala:71)\n\tat com.databricks.logging.UsageLogging.recordOperation(UsageLogging.scala:571)\n\tat com.databricks.logging.UsageLogging.recordOperation$(UsageLogging.scala:540)\n\tat com.databricks.backend.daemon.dbutils.FSUtils.recordOperation(DBUtilsCore.scala:71)\n\tat com.databricks.backend.daemon.dbutils.FSUtils.recordDbutilsFsOp(DBUtilsCore.scala:135)\n\tat com.databricks.backend.daemon.dbutils.DBUtilsCore.mount(DBUtilsCore.scala:1073)\n\tat sun.reflect.NativeMethodAccessorImpl.invoke0(Native Method)\n\tat sun.reflect.NativeMethodAccessorImpl.invoke(NativeMethodAccessorImpl.java:62)\n\tat sun.reflect.DelegatingMethodAccessorImpl.invoke(DelegatingMethodAccessorImpl.java:43)\n\tat java.lang.reflect.Method.invoke(Method.java:498)\n\tat py4j.reflection.MethodInvoker.invoke(MethodInvoker.java:244)\n\tat py4j.reflection.ReflectionEngine.invoke(ReflectionEngine.java:397)\n\tat py4j.Gateway.invoke(Gateway.java:306)\n\tat py4j.commands.AbstractCommand.invokeMethod(AbstractCommand.java:132)\n\tat py4j.commands.CallCommand.execute(CallCommand.java:79)\n\tat py4j.ClientServerConnection.waitForCommands(ClientServerConnection.java:199)\n\tat py4j.ClientServerConnection.run(ClientServerConnection.java:119)\n\tat java.lang.Thread.run(Thread.java:750)\n\n"
     ]
    }
   ],
   "source": [
    "storageAccountName = \"azureadlssa111\"\n",
    "blobContainerName = \"azure-container-111\"\n",
    "storageAccountAccessKey = \"uGobbe5dk27u0q9mpkl3POWMFoKdIxZZZYDLGBcW1Rcqmvlm6IaAdyz5fV3jrQvvBoLDMigkngPa+ASt/Eu93g==\"\n",
    "mount_point = \"/mnt/adls_container-2/\"\n",
    "\n",
    "if not any(mount.mountPoint == mount_point for mount in dbutils.fs.mounts()):\n",
    "    print(\"Mounting......\")\n",
    "    try:\n",
    "        dbutils.fs.mount(\n",
    "            source = f\"wasbs://\"+blobContainerName+\"@\"+storageAccountName+\".blob.core.windows.net\",\n",
    "            mount_point = mount_point,\n",
    "            extra_configs = {f'fs.azure.account.key.{storageAccountName}.blob.core.windows.net': storageAccountAccessKey}\n",
    "        )\n",
    "        print(\"Mounting completed\")\n",
    "    except Exception as e:\n",
    "        print(e)\n",
    "else:\n",
    "    print(\"Mount point already exists\")"
   ]
  },
  {
   "cell_type": "code",
   "execution_count": 0,
   "metadata": {
    "application/vnd.databricks.v1+cell": {
     "cellMetadata": {
      "byteLimit": 2048000,
      "rowLimit": 10000
     },
     "inputWidgets": {},
     "nuid": "7bd9e732-36f3-4352-922f-2d21974696e3",
     "showTitle": false,
     "title": ""
    }
   },
   "outputs": [
    {
     "output_type": "stream",
     "name": "stdout",
     "output_type": "stream",
     "text": [
      "/mnt/adls_container-2/ has been unmounted.\n"
     ]
    },
    {
     "output_type": "execute_result",
     "data": {
      "text/plain": [
       "True"
      ]
     },
     "execution_count": 16,
     "metadata": {},
     "output_type": "execute_result"
    }
   ],
   "source": [
    "dbutils.fs.unmount(\"/mnt/adls_container-2/\")"
   ]
  },
  {
   "cell_type": "code",
   "execution_count": 0,
   "metadata": {
    "application/vnd.databricks.v1+cell": {
     "cellMetadata": {
      "byteLimit": 2048000,
      "rowLimit": 10000
     },
     "inputWidgets": {},
     "nuid": "363781d5-bf80-44d4-907e-f7d31ade1afd",
     "showTitle": false,
     "title": ""
    }
   },
   "outputs": [
    {
     "output_type": "display_data",
     "data": {
      "text/html": [
       "<style scoped>\n",
       "  .table-result-container {\n",
       "    max-height: 300px;\n",
       "    overflow: auto;\n",
       "  }\n",
       "  table, th, td {\n",
       "    border: 1px solid black;\n",
       "    border-collapse: collapse;\n",
       "  }\n",
       "  th, td {\n",
       "    padding: 5px;\n",
       "  }\n",
       "  th {\n",
       "    text-align: left;\n",
       "  }\n",
       "</style><div class='table-result-container'><table class='table-result'><thead style='background-color: white'><tr><th>path</th><th>name</th><th>size</th><th>modificationTime</th></tr></thead><tbody><tr><td>dbfs:/mnt/adls_container/Diemension Modelling.png</td><td>Diemension Modelling.png</td><td>36754</td><td>1728454270000</td></tr><tr><td>dbfs:/mnt/adls_container/books-data.csv</td><td>books-data.csv</td><td>238</td><td>1728454270000</td></tr><tr><td>dbfs:/mnt/adls_container/customers-data.json</td><td>customers-data.json</td><td>79378</td><td>1728454271000</td></tr><tr><td>dbfs:/mnt/adls_container/departments-data.csv</td><td>departments-data.csv</td><td>81</td><td>1728454270000</td></tr><tr><td>dbfs:/mnt/adls_container/departments.csv</td><td>departments.csv</td><td>81</td><td>1728454270000</td></tr><tr><td>dbfs:/mnt/adls_container/employee-data.csv</td><td>employee-data.csv</td><td>973</td><td>1728454271000</td></tr><tr><td>dbfs:/mnt/adls_container/employee.csv</td><td>employee.csv</td><td>973</td><td>1728454271000</td></tr><tr><td>dbfs:/mnt/adls_container/employee_data.json</td><td>employee_data.json</td><td>86</td><td>1728454271000</td></tr><tr><td>dbfs:/mnt/adls_container/order-data.json</td><td>order-data.json</td><td>162000</td><td>1728454271000</td></tr><tr><td>dbfs:/mnt/adls_container/orders-data.csv</td><td>orders-data.csv</td><td>238</td><td>1728454271000</td></tr><tr><td>dbfs:/mnt/adls_container/products.txt</td><td>products.txt</td><td>215</td><td>1728454271000</td></tr><tr><td>dbfs:/mnt/adls_container/searchspring.json</td><td>searchspring.json</td><td>17584</td><td>1728454271000</td></tr><tr><td>dbfs:/mnt/adls_container/test/</td><td>test/</td><td>0</td><td>1728544350000</td></tr><tr><td>dbfs:/mnt/adls_container/user-data.json</td><td>user-data.json</td><td>969274</td><td>1728454273000</td></tr></tbody></table></div>"
      ]
     },
     "metadata": {
      "application/vnd.databricks.v1+output": {
       "addedWidgets": {},
       "aggData": [],
       "aggError": "",
       "aggOverflow": false,
       "aggSchema": [],
       "aggSeriesLimitReached": false,
       "aggType": "",
       "arguments": {},
       "columnCustomDisplayInfos": {},
       "data": [
        [
         "dbfs:/mnt/adls_container/Diemension Modelling.png",
         "Diemension Modelling.png",
         36754,
         1728454270000
        ],
        [
         "dbfs:/mnt/adls_container/books-data.csv",
         "books-data.csv",
         238,
         1728454270000
        ],
        [
         "dbfs:/mnt/adls_container/customers-data.json",
         "customers-data.json",
         79378,
         1728454271000
        ],
        [
         "dbfs:/mnt/adls_container/departments-data.csv",
         "departments-data.csv",
         81,
         1728454270000
        ],
        [
         "dbfs:/mnt/adls_container/departments.csv",
         "departments.csv",
         81,
         1728454270000
        ],
        [
         "dbfs:/mnt/adls_container/employee-data.csv",
         "employee-data.csv",
         973,
         1728454271000
        ],
        [
         "dbfs:/mnt/adls_container/employee.csv",
         "employee.csv",
         973,
         1728454271000
        ],
        [
         "dbfs:/mnt/adls_container/employee_data.json",
         "employee_data.json",
         86,
         1728454271000
        ],
        [
         "dbfs:/mnt/adls_container/order-data.json",
         "order-data.json",
         162000,
         1728454271000
        ],
        [
         "dbfs:/mnt/adls_container/orders-data.csv",
         "orders-data.csv",
         238,
         1728454271000
        ],
        [
         "dbfs:/mnt/adls_container/products.txt",
         "products.txt",
         215,
         1728454271000
        ],
        [
         "dbfs:/mnt/adls_container/searchspring.json",
         "searchspring.json",
         17584,
         1728454271000
        ],
        [
         "dbfs:/mnt/adls_container/test/",
         "test/",
         0,
         1728544350000
        ],
        [
         "dbfs:/mnt/adls_container/user-data.json",
         "user-data.json",
         969274,
         1728454273000
        ]
       ],
       "datasetInfos": [],
       "dbfsResultPath": null,
       "isJsonSchema": true,
       "metadata": {},
       "overflow": false,
       "plotOptions": {
        "customPlotOptions": {},
        "displayType": "table",
        "pivotAggregation": null,
        "pivotColumns": null,
        "xColumns": null,
        "yColumns": null
       },
       "removedWidgets": [],
       "schema": [
        {
         "metadata": "{}",
         "name": "path",
         "type": "\"string\""
        },
        {
         "metadata": "{}",
         "name": "name",
         "type": "\"string\""
        },
        {
         "metadata": "{}",
         "name": "size",
         "type": "\"long\""
        },
        {
         "metadata": "{}",
         "name": "modificationTime",
         "type": "\"long\""
        }
       ],
       "type": "table"
      }
     },
     "output_type": "display_data"
    }
   ],
   "source": [
    "files = dbutils.fs.ls(\"/mnt/adls_container/\")\n",
    "\n",
    "display(files)"
   ]
  },
  {
   "cell_type": "code",
   "execution_count": 0,
   "metadata": {
    "application/vnd.databricks.v1+cell": {
     "cellMetadata": {
      "byteLimit": 2048000,
      "rowLimit": 10000
     },
     "inputWidgets": {},
     "nuid": "048d6334-f16d-4943-8ca4-c07daf4ebb51",
     "showTitle": false,
     "title": ""
    }
   },
   "outputs": [
    {
     "output_type": "execute_result",
     "data": {
      "text/plain": [
       "True"
      ]
     },
     "execution_count": 7,
     "metadata": {},
     "output_type": "execute_result"
    }
   ],
   "source": [
    "dbutils.fs.mkdirs(\"/mnt/adls_container/test\")"
   ]
  },
  {
   "cell_type": "code",
   "execution_count": 0,
   "metadata": {
    "application/vnd.databricks.v1+cell": {
     "cellMetadata": {
      "byteLimit": 2048000,
      "rowLimit": 10000
     },
     "inputWidgets": {},
     "nuid": "415c87cf-dfd4-48a8-aecf-d7aa08eae251",
     "showTitle": false,
     "title": ""
    }
   },
   "outputs": [
    {
     "output_type": "execute_result",
     "data": {
      "text/plain": [
       "True"
      ]
     },
     "execution_count": 8,
     "metadata": {},
     "output_type": "execute_result"
    }
   ],
   "source": [
    "dbutils.fs.mv(\"dbfs:/mnt/adls_container/sink_csv_file_part-00001-19273c4b-d9a9-4693-8137-1ed97a083e44-c000.csv\", \"/mnt/adls_container/test\")"
   ]
  },
  {
   "cell_type": "code",
   "execution_count": 0,
   "metadata": {
    "application/vnd.databricks.v1+cell": {
     "cellMetadata": {
      "byteLimit": 2048000,
      "rowLimit": 10000
     },
     "inputWidgets": {},
     "nuid": "d10e007e-31c3-4d40-97ed-0705ef573d71",
     "showTitle": false,
     "title": ""
    }
   },
   "outputs": [
    {
     "output_type": "execute_result",
     "data": {
      "text/plain": [
       "[FileInfo(path='dbfs:/mnt/adls_container/test/sink_csv_file_part-00001-19273c4b-d9a9-4693-8137-1ed97a083e44-c000.csv', name='sink_csv_file_part-00001-19273c4b-d9a9-4693-8137-1ed97a083e44-c000.csv', size=338, modificationTime=1728544350000)]"
      ]
     },
     "execution_count": 9,
     "metadata": {},
     "output_type": "execute_result"
    }
   ],
   "source": [
    "dbutils.fs.ls((\"/mnt/adls_container/test\"))"
   ]
  }
 ],
 "metadata": {
  "application/vnd.databricks.v1+notebook": {
   "dashboards": [],
   "environmentMetadata": null,
   "language": "python",
   "notebookMetadata": {
    "pythonIndentUnit": 4
   },
   "notebookName": "1.2 - DBFS+Mount",
   "widgets": {}
  }
 },
 "nbformat": 4,
 "nbformat_minor": 0
}
