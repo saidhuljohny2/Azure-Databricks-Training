{
 "cells": [
  {
   "cell_type": "markdown",
   "metadata": {
    "application/vnd.databricks.v1+cell": {
     "cellMetadata": {},
     "inputWidgets": {},
     "nuid": "bd450410-38d0-490b-93c5-ce1cc33971e2",
     "showTitle": false,
     "title": ""
    }
   },
   "source": [
    "\n",
    "## Creating Clusters"
   ]
  },
  {
   "cell_type": "markdown",
   "metadata": {
    "application/vnd.databricks.v1+cell": {
     "cellMetadata": {},
     "inputWidgets": {},
     "nuid": "e9738454-3b72-443a-a016-022686ef69b9",
     "showTitle": false,
     "title": ""
    }
   },
   "source": [
    "#### Creating a Demo Cluster\n",
    "\n",
    "Create a cluster with the following configurations:\n",
    "\n",
    "| Setting | Instructions |\n",
    "|--|--|\n",
    "|Cluster name|**Demo Cluster**|\n",
    "|Cluster mode|**Single Node**|\n",
    "|Runtime version|Select the Databricks runtime version 13.3 LTS|\n",
    "|Photon Acceleration| Uncheck the option |\n",
    "|Node type|4 cores|\n",
    "|Auto termination|30 minutes|\n"
   ]
  },
  {
   "cell_type": "markdown",
   "metadata": {
    "application/vnd.databricks.v1+cell": {
     "cellMetadata": {},
     "inputWidgets": {},
     "nuid": "23cfe444-263e-4f62-a125-eba8c439d5f7",
     "showTitle": false,
     "title": ""
    }
   },
   "source": [
    "1-\tNavigate to the **Compute** tab in the left side bar.\n",
    "\n",
    "2-\tUnder **All-purpose compute** tab, click **Create compute**.\n",
    "\n",
    "3-\tOn top, click on the default name to change it. Name your cluster as **Demo Cluster**\n",
    "\n",
    "4-\tSelect **Single node** cluster\n",
    "\n",
    "5-\tSelect the Databricks runtime version 13.3 LTS (Long Term Support)\n",
    "\n",
    "6-\tUncheck the option for the **Use Photon Acceleration**\n",
    "\n",
    "7-\tSelect a Node type of 4 cores\n",
    "\n",
    "8-\tSet the auto termination of the cluster to 30 minutes\n",
    "\n",
    "9-\tLastly, click **Create compute**.\n",
    "\n",
    "\n"
   ]
  },
  {
   "cell_type": "markdown",
   "metadata": {
    "application/vnd.databricks.v1+cell": {
     "cellMetadata": {},
     "inputWidgets": {},
     "nuid": "b169d95a-08cf-477b-8215-a03ea9cfab96",
     "showTitle": false,
     "title": ""
    }
   },
   "source": [
    "\n",
    "<div  style=\"text-align: center; line-height: 0; padding-top: 9px;\">\n",
    "  <img src=\"/Workspace/Users/saidhuljohny@gmail.com/DBX-Materials/Cluster-Image.png\">\n",
    "</div>"
   ]
  },
  {
   "cell_type": "code",
   "execution_count": 0,
   "metadata": {
    "application/vnd.databricks.v1+cell": {
     "cellMetadata": {},
     "inputWidgets": {},
     "nuid": "8b672897-74c1-4c66-9a19-3acd4db9aabb",
     "showTitle": false,
     "title": ""
    }
   },
   "outputs": [],
   "source": []
  }
 ],
 "metadata": {
  "application/vnd.databricks.v1+notebook": {
   "dashboards": [],
   "environmentMetadata": null,
   "language": "python",
   "notebookMetadata": {
    "pythonIndentUnit": 4
   },
   "notebookName": "1.0 - Creating clusters",
   "widgets": {}
  }
 },
 "nbformat": 4,
 "nbformat_minor": 0
}
