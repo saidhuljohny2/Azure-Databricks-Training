{
 "cells": [
  {
   "cell_type": "markdown",
   "metadata": {
    "application/vnd.databricks.v1+cell": {
     "cellMetadata": {
      "byteLimit": 2048000,
      "rowLimit": 10000
     },
     "inputWidgets": {},
     "nuid": "53b3f2db-891c-4bf7-9eb3-01ff5e001d05",
     "showTitle": false,
     "title": ""
    }
   },
   "source": [
    "# `What is Dataframe` :\n",
    "\n",
    "  - A DataFrame is a distributed collection of data organized into columns and rows(similar to a table). \n",
    "\n",
    "###  `Properties of DataFrame`:\n",
    "  1. **Distributed:** Data is distributed across multiple nodes in a cluster.\n",
    "  2. **Immutable:** Once created, it cannot be changed. Transformations produce new DataFrames.\n",
    "  3. **Lazy Evaluation:** Transformations on DataFrames are not computed immediately. Spark computes them only when an action requires a result to be returned to the driver program.\n",
    "  4. **Schema:** Each DataFrame has a schema, representing the structure of the data, including column names and types.\n",
    "  5. **Supports various data formats:** Can read and write data in various formats like CSV, JSON, Parquet, Avro, etc.\n"
   ]
  },
  {
   "cell_type": "markdown",
   "metadata": {
    "application/vnd.databricks.v1+cell": {
     "cellMetadata": {
      "byteLimit": 2048000,
      "rowLimit": 10000
     },
     "inputWidgets": {},
     "nuid": "58a5c5a0-5b2e-44a6-9776-132f6ff50e37",
     "showTitle": false,
     "title": ""
    }
   },
   "source": [
    "# Create DF from Reading Multiple File Formats"
   ]
  },
  {
   "cell_type": "code",
   "execution_count": 0,
   "metadata": {
    "application/vnd.databricks.v1+cell": {
     "cellMetadata": {
      "byteLimit": 2048000,
      "rowLimit": 10000
     },
     "inputWidgets": {},
     "nuid": "de1eb118-7334-4a65-899b-97a7d0fbb021",
     "showTitle": true,
     "title": "CSV"
    }
   },
   "outputs": [],
   "source": [
    "from pyspark.sql.types import StructType, StructField, StringType, IntegerType, FloatType\n",
    "\n",
    "# define the custom schema using structtype and structfield\n",
    "books_shema = StructType([\n",
    "    StructField(\"book_id\",StringType()),\n",
    "    StructField(\"title\",StringType()),\n",
    "    StructField(\"author\",StringType()),\n",
    "    StructField(\"category\",StringType()),\n",
    "    StructField(\"price\", IntegerType())\n",
    "])\n",
    "\n",
    "# df_csv = spark.read.csv(\"dbfs:/mnt/adls_container/books-data.csv\", header=True, sep=\";\", inferSchema=True)\n",
    "df_csv = spark.read.csv(\"dbfs:/mnt/adls_container/books-data.csv\", header=True, sep=\";\",schema=books_shema)\n",
    "\n",
    "display(df_csv)\n",
    "df_csv.printSchema()"
   ]
  },
  {
   "cell_type": "code",
   "execution_count": 0,
   "metadata": {
    "application/vnd.databricks.v1+cell": {
     "cellMetadata": {
      "byteLimit": 2048000,
      "rowLimit": 10000
     },
     "inputWidgets": {},
     "nuid": "f4106d30-f0b5-4153-a214-3171ed605713",
     "showTitle": true,
     "title": "JSON"
    }
   },
<<<<<<< HEAD
   "outputs": [
    {
     "output_type": "display_data",
     "data": {
      "text/html": [
       "<style scoped>\n",
       "  .table-result-container {\n",
       "    max-height: 300px;\n",
       "    overflow: auto;\n",
       "  }\n",
       "  table, th, td {\n",
       "    border: 1px solid black;\n",
       "    border-collapse: collapse;\n",
       "  }\n",
       "  th, td {\n",
       "    padding: 5px;\n",
       "  }\n",
       "  th {\n",
       "    text-align: left;\n",
       "  }\n",
       "</style><div class='table-result-container'><table class='table-result'><thead style='background-color: white'><tr><th>customer_id</th><th>email</th><th>profile</th><th>updated</th></tr></thead><tbody><tr><td>C00001</td><td>dabby2y@japanpost.jp</td><td>{\"first_name\":\"Dniren\",\"last_name\":\"Abby\",\"gender\":\"Female\",\"address\":{\"street\":\"768 Mesta Terrace\",\"city\":\"Annecy\",\"country\":\"France\"}}</td><td>2021-12-14T23:15:43.375Z</td></tr><tr><td>C00002</td><td>eabbysc1@github.com</td><td>{\"first_name\":\"Etti\",\"last_name\":\"Abbys\",\"gender\":\"Female\",\"address\":{\"street\":\"1748 Vidon Plaza\",\"city\":\"Varge Mondar\",\"country\":\"Portugal\"}}</td><td>2021-12-14T23:15:43.375Z</td></tr><tr><td>C00003</td><td>rabelovd1@wikispaces.com</td><td>{\"first_name\":\"Ronnie\",\"last_name\":\"Abelov\",\"gender\":\"Male\",\"address\":{\"street\":\"363 Randy Park\",\"city\":\"San Celestio\",\"country\":\"Philippines\"}}</td><td>2021-12-14T23:15:43.375Z</td></tr><tr><td>C00004</td><td>rabels9g@behance.net</td><td>{\"first_name\":\"Ray\",\"last_name\":\"Abels\",\"gender\":\"Female\",\"address\":{\"street\":\"613 Lyons Way\",\"city\":\"Oudtshoorn\",\"country\":\"South Africa\"}}</td><td>2021-12-14T23:15:43.375Z</td></tr><tr><td>C00005</td><td>sabendrothin@cargocollective.com</td><td>{\"first_name\":\"Shanon\",\"last_name\":\"Abendroth\",\"gender\":\"Female\",\"address\":{\"street\":\"30292 Manufacturers Junction\",\"city\":\"Ani-e\",\"country\":\"Philippines\"}}</td><td>2021-12-14T23:15:43.375Z</td></tr><tr><td>C00006</td><td>null</td><td>{\"first_name\":\"Norman\",\"last_name\":\"Abernethy\",\"gender\":\"Male\",\"address\":{\"street\":\"9292 Oxford Center\",\"city\":\"Gibara\",\"country\":\"Cuba\"}}</td><td>2021-12-14T23:15:43.375Z</td></tr><tr><td>C00007</td><td>sabrahmson3h@blinklist.com</td><td>{\"first_name\":\"Skell\",\"last_name\":\"Abrahmson\",\"gender\":\"Male\",\"address\":{\"street\":\"90941 Hallows Park\",\"city\":\"Huarong Chengguanzhen\",\"country\":\"China\"}}</td><td>2021-12-14T23:15:43.375Z</td></tr><tr><td>C00008</td><td>dacheson2h@mapy.cz</td><td>{\"first_name\":\"Darsey\",\"last_name\":\"Acheson\",\"gender\":\"Non-binary\",\"address\":{\"street\":\"29579 Grim Plaza\",\"city\":\"Dārayyā\",\"country\":\"Syria\"}}</td><td>2021-12-14T23:15:43.375Z</td></tr><tr><td>C00009</td><td>fackwoodji@gravatar.com</td><td>{\"first_name\":\"Fredrick\",\"last_name\":\"Ackwood\",\"gender\":\"Male\",\"address\":{\"street\":\"67 Dunning Plaza\",\"city\":\"Santo Domingo\",\"country\":\"Cuba\"}}</td><td>2021-12-14T23:15:43.375Z</td></tr><tr><td>C00010</td><td>null</td><td>{\"first_name\":\"Doralynne\",\"last_name\":\"Adamkiewicz\",\"gender\":\"Female\",\"address\":{\"street\":\"84126 Glendale Center\",\"city\":\"Ugep\",\"country\":\"Nigeria\"}}</td><td>2021-12-14T23:15:43.375Z</td></tr></tbody></table></div>"
      ]
     },
     "metadata": {
      "application/vnd.databricks.v1+output": {
       "addedWidgets": {},
       "aggData": [],
       "aggError": "",
       "aggOverflow": false,
       "aggSchema": [],
       "aggSeriesLimitReached": false,
       "aggType": "",
       "arguments": {},
       "columnCustomDisplayInfos": {},
       "data": [
        [
         "C00001",
         "dabby2y@japanpost.jp",
         "{\"first_name\":\"Dniren\",\"last_name\":\"Abby\",\"gender\":\"Female\",\"address\":{\"street\":\"768 Mesta Terrace\",\"city\":\"Annecy\",\"country\":\"France\"}}",
         "2021-12-14T23:15:43.375Z"
        ],
        [
         "C00002",
         "eabbysc1@github.com",
         "{\"first_name\":\"Etti\",\"last_name\":\"Abbys\",\"gender\":\"Female\",\"address\":{\"street\":\"1748 Vidon Plaza\",\"city\":\"Varge Mondar\",\"country\":\"Portugal\"}}",
         "2021-12-14T23:15:43.375Z"
        ],
        [
         "C00003",
         "rabelovd1@wikispaces.com",
         "{\"first_name\":\"Ronnie\",\"last_name\":\"Abelov\",\"gender\":\"Male\",\"address\":{\"street\":\"363 Randy Park\",\"city\":\"San Celestio\",\"country\":\"Philippines\"}}",
         "2021-12-14T23:15:43.375Z"
        ],
        [
         "C00004",
         "rabels9g@behance.net",
         "{\"first_name\":\"Ray\",\"last_name\":\"Abels\",\"gender\":\"Female\",\"address\":{\"street\":\"613 Lyons Way\",\"city\":\"Oudtshoorn\",\"country\":\"South Africa\"}}",
         "2021-12-14T23:15:43.375Z"
        ],
        [
         "C00005",
         "sabendrothin@cargocollective.com",
         "{\"first_name\":\"Shanon\",\"last_name\":\"Abendroth\",\"gender\":\"Female\",\"address\":{\"street\":\"30292 Manufacturers Junction\",\"city\":\"Ani-e\",\"country\":\"Philippines\"}}",
         "2021-12-14T23:15:43.375Z"
        ],
        [
         "C00006",
         null,
         "{\"first_name\":\"Norman\",\"last_name\":\"Abernethy\",\"gender\":\"Male\",\"address\":{\"street\":\"9292 Oxford Center\",\"city\":\"Gibara\",\"country\":\"Cuba\"}}",
         "2021-12-14T23:15:43.375Z"
        ],
        [
         "C00007",
         "sabrahmson3h@blinklist.com",
         "{\"first_name\":\"Skell\",\"last_name\":\"Abrahmson\",\"gender\":\"Male\",\"address\":{\"street\":\"90941 Hallows Park\",\"city\":\"Huarong Chengguanzhen\",\"country\":\"China\"}}",
         "2021-12-14T23:15:43.375Z"
        ],
        [
         "C00008",
         "dacheson2h@mapy.cz",
         "{\"first_name\":\"Darsey\",\"last_name\":\"Acheson\",\"gender\":\"Non-binary\",\"address\":{\"street\":\"29579 Grim Plaza\",\"city\":\"Dārayyā\",\"country\":\"Syria\"}}",
         "2021-12-14T23:15:43.375Z"
        ],
        [
         "C00009",
         "fackwoodji@gravatar.com",
         "{\"first_name\":\"Fredrick\",\"last_name\":\"Ackwood\",\"gender\":\"Male\",\"address\":{\"street\":\"67 Dunning Plaza\",\"city\":\"Santo Domingo\",\"country\":\"Cuba\"}}",
         "2021-12-14T23:15:43.375Z"
        ],
        [
         "C00010",
         null,
         "{\"first_name\":\"Doralynne\",\"last_name\":\"Adamkiewicz\",\"gender\":\"Female\",\"address\":{\"street\":\"84126 Glendale Center\",\"city\":\"Ugep\",\"country\":\"Nigeria\"}}",
         "2021-12-14T23:15:43.375Z"
        ]
       ],
       "datasetInfos": [],
       "dbfsResultPath": null,
       "isJsonSchema": true,
       "metadata": {},
       "overflow": false,
       "plotOptions": {
        "customPlotOptions": {},
        "displayType": "table",
        "pivotAggregation": null,
        "pivotColumns": null,
        "xColumns": null,
        "yColumns": null
       },
       "removedWidgets": [],
       "schema": [
        {
         "metadata": "{}",
         "name": "customer_id",
         "type": "\"string\""
        },
        {
         "metadata": "{}",
         "name": "email",
         "type": "\"string\""
        },
        {
         "metadata": "{}",
         "name": "profile",
         "type": "\"string\""
        },
        {
         "metadata": "{}",
         "name": "updated",
         "type": "\"string\""
        }
       ],
       "type": "table"
      }
     },
     "output_type": "display_data"
    },
    {
     "output_type": "stream",
     "name": "stdout",
     "output_type": "stream",
     "text": [
      "root\n |-- customer_id: string (nullable = true)\n |-- email: string (nullable = true)\n |-- profile: string (nullable = true)\n |-- updated: string (nullable = true)\n\n"
     ]
    }
   ],
=======
   "outputs": [],
>>>>>>> 2a819504e865dc09ebe7216974fd3a9e03441a89
   "source": [
    "df_json = spark.read.json(\"dbfs:/mnt/adls_container/customers-data.json\")\n",
    "\n",
    "display(df_json.limit(10))\n",
    "df_json.printSchema()"
   ]
  },
  {
   "cell_type": "code",
   "execution_count": 0,
   "metadata": {
    "application/vnd.databricks.v1+cell": {
     "cellMetadata": {
      "byteLimit": 2048000,
      "rowLimit": 10000
     },
     "inputWidgets": {},
     "nuid": "3fffe56e-77b2-4bf6-b146-05e54c42461f",
     "showTitle": true,
     "title": "PARQUET"
    }
   },
<<<<<<< HEAD
   "outputs": [
    {
     "output_type": "display_data",
     "data": {
      "text/html": [
       "<style scoped>\n",
       "  .table-result-container {\n",
       "    max-height: 300px;\n",
       "    overflow: auto;\n",
       "  }\n",
       "  table, th, td {\n",
       "    border: 1px solid black;\n",
       "    border-collapse: collapse;\n",
       "  }\n",
       "  th, td {\n",
       "    padding: 5px;\n",
       "  }\n",
       "  th {\n",
       "    text-align: left;\n",
       "  }\n",
       "</style><div class='table-result-container'><table class='table-result'><thead style='background-color: white'><tr><th>order_id</th><th>order_timestamp</th><th>customer_id</th><th>quantity</th><th>total</th><th>books</th></tr></thead><tbody><tr><td>000000000006341</td><td>1657520256</td><td>C00788</td><td>1</td><td>41</td><td>List(List(B08, 1, 41))</td></tr><tr><td>000000000006342</td><td>1657520256</td><td>C00788</td><td>1</td><td>41</td><td>List(List(B08, 1, 41))</td></tr><tr><td>000000000006343</td><td>1657531717</td><td>C00654</td><td>1</td><td>28</td><td>List(List(B02, 1, 28))</td></tr><tr><td>000000000006344</td><td>1657531717</td><td>C00654</td><td>1</td><td>28</td><td>List(List(B02, 1, 28))</td></tr><tr><td>000000000006345</td><td>1657543676</td><td>C00762</td><td>1</td><td>49</td><td>List(List(B01, 1, 49))</td></tr><tr><td>000000000006346</td><td>1657543676</td><td>C00762</td><td>1</td><td>49</td><td>List(List(B01, 1, 49))</td></tr><tr><td>000000000006347</td><td>1657546079</td><td>C01014</td><td>1</td><td>28</td><td>List(List(B02, 1, 28))</td></tr><tr><td>000000000006348</td><td>1657546658</td><td>C00633</td><td>1</td><td>24</td><td>List(List(B09, 1, 24))</td></tr><tr><td>000000000006349</td><td>1657546658</td><td>C00633</td><td>1</td><td>24</td><td>List(List(B09, 1, 24))</td></tr><tr><td>000000000006350</td><td>1657547177</td><td>C00638</td><td>1</td><td>35</td><td>List(List(B03, 1, 35))</td></tr></tbody></table></div>"
      ]
     },
     "metadata": {
      "application/vnd.databricks.v1+output": {
       "addedWidgets": {},
       "aggData": [],
       "aggError": "",
       "aggOverflow": false,
       "aggSchema": [],
       "aggSeriesLimitReached": false,
       "aggType": "",
       "arguments": {},
       "columnCustomDisplayInfos": {},
       "data": [
        [
         "000000000006341",
         1657520256,
         "C00788",
         1,
         41,
         [
          [
           "B08",
           1,
           41
          ]
         ]
        ],
        [
         "000000000006342",
         1657520256,
         "C00788",
         1,
         41,
         [
          [
           "B08",
           1,
           41
          ]
         ]
        ],
        [
         "000000000006343",
         1657531717,
         "C00654",
         1,
         28,
         [
          [
           "B02",
           1,
           28
          ]
         ]
        ],
        [
         "000000000006344",
         1657531717,
         "C00654",
         1,
         28,
         [
          [
           "B02",
           1,
           28
          ]
         ]
        ],
        [
         "000000000006345",
         1657543676,
         "C00762",
         1,
         49,
         [
          [
           "B01",
           1,
           49
          ]
         ]
        ],
        [
         "000000000006346",
         1657543676,
         "C00762",
         1,
         49,
         [
          [
           "B01",
           1,
           49
          ]
         ]
        ],
        [
         "000000000006347",
         1657546079,
         "C01014",
         1,
         28,
         [
          [
           "B02",
           1,
           28
          ]
         ]
        ],
        [
         "000000000006348",
         1657546658,
         "C00633",
         1,
         24,
         [
          [
           "B09",
           1,
           24
          ]
         ]
        ],
        [
         "000000000006349",
         1657546658,
         "C00633",
         1,
         24,
         [
          [
           "B09",
           1,
           24
          ]
         ]
        ],
        [
         "000000000006350",
         1657547177,
         "C00638",
         1,
         35,
         [
          [
           "B03",
           1,
           35
          ]
         ]
        ]
       ],
       "datasetInfos": [],
       "dbfsResultPath": null,
       "isJsonSchema": true,
       "metadata": {},
       "overflow": false,
       "plotOptions": {
        "customPlotOptions": {},
        "displayType": "table",
        "pivotAggregation": null,
        "pivotColumns": null,
        "xColumns": null,
        "yColumns": null
       },
       "removedWidgets": [],
       "schema": [
        {
         "metadata": "{}",
         "name": "order_id",
         "type": "\"string\""
        },
        {
         "metadata": "{}",
         "name": "order_timestamp",
         "type": "\"long\""
        },
        {
         "metadata": "{}",
         "name": "customer_id",
         "type": "\"string\""
        },
        {
         "metadata": "{}",
         "name": "quantity",
         "type": "\"long\""
        },
        {
         "metadata": "{}",
         "name": "total",
         "type": "\"integer\""
        },
        {
         "metadata": "{}",
         "name": "books",
         "type": "{\"type\":\"array\",\"elementType\":{\"type\":\"struct\",\"fields\":[{\"name\":\"book_id\",\"type\":\"string\",\"nullable\":true,\"metadata\":{}},{\"name\":\"quantity\",\"type\":\"integer\",\"nullable\":true,\"metadata\":{}},{\"name\":\"subtotal\",\"type\":\"long\",\"nullable\":true,\"metadata\":{}}]},\"containsNull\":true}"
        }
       ],
       "type": "table"
      }
     },
     "output_type": "display_data"
    },
    {
     "output_type": "stream",
     "name": "stdout",
     "output_type": "stream",
     "text": [
      "root\n |-- order_id: string (nullable = true)\n |-- order_timestamp: long (nullable = true)\n |-- customer_id: string (nullable = true)\n |-- quantity: long (nullable = true)\n |-- total: integer (nullable = true)\n |-- books: array (nullable = true)\n |    |-- element: struct (containsNull = true)\n |    |    |-- book_id: string (nullable = true)\n |    |    |-- quantity: integer (nullable = true)\n |    |    |-- subtotal: long (nullable = true)\n\n"
     ]
    },
    {
     "output_type": "execute_result",
     "data": {
      "text/plain": [
       "3000"
      ]
     },
     "execution_count": 32,
     "metadata": {},
     "output_type": "execute_result"
    }
   ],
=======
   "outputs": [],
>>>>>>> 2a819504e865dc09ebe7216974fd3a9e03441a89
   "source": [
    "df_parquet = spark.read.parquet(\"dbfs:/FileStore/parquet/\")\n",
    "\n",
    "display(df_parquet.limit(10))\n",
    "df_parquet.printSchema()\n",
    "df_parquet.count()"
   ]
  },
  {
   "cell_type": "code",
   "execution_count": 0,
   "metadata": {
    "application/vnd.databricks.v1+cell": {
     "cellMetadata": {
      "byteLimit": 2048000,
      "rowLimit": 10000
     },
     "inputWidgets": {},
     "nuid": "cb6cb59b-e40f-4fe4-a218-403894d313b3",
     "showTitle": true,
     "title": "DB TABLE"
    }
   },
<<<<<<< HEAD
   "outputs": [
    {
     "output_type": "display_data",
     "data": {
      "text/html": [
       "<style scoped>\n",
       "  .table-result-container {\n",
       "    max-height: 300px;\n",
       "    overflow: auto;\n",
       "  }\n",
       "  table, th, td {\n",
       "    border: 1px solid black;\n",
       "    border-collapse: collapse;\n",
       "  }\n",
       "  th, td {\n",
       "    padding: 5px;\n",
       "  }\n",
       "  th {\n",
       "    text-align: left;\n",
       "  }\n",
       "</style><div class='table-result-container'><table class='table-result'><thead style='background-color: white'><tr><th>CustomerID</th><th>NameStyle</th><th>Title</th><th>FirstName</th><th>MiddleName</th><th>LastName</th><th>Suffix</th><th>CompanyName</th><th>SalesPerson</th><th>EmailAddress</th><th>Phone</th><th>PasswordHash</th><th>PasswordSalt</th><th>rowguid</th><th>ModifiedDate</th></tr></thead><tbody><tr><td>1</td><td>false</td><td>Mr.</td><td>Orlando</td><td>N.</td><td>Gee</td><td>null</td><td>A Bike Store</td><td>adventure-works\\pamela0</td><td>orlando0@adventure-works.com</td><td>245-555-0173</td><td>L/Rlwxzp4w7RWmEgXX+/A7cXaePEPcp+KwQhl2fJL7w=</td><td>1KjXYs4=</td><td>3F5AE95E-B87D-4AED-95B4-C3797AFCB74F</td><td>2005-08-01T00:00:00Z</td></tr><tr><td>2</td><td>false</td><td>Mr.</td><td>Keith</td><td>null</td><td>Harris</td><td>null</td><td>Progressive Sports</td><td>adventure-works\\david8</td><td>keith0@adventure-works.com</td><td>170-555-0127</td><td>YPdtRdvqeAhj6wyxEsFdshBDNXxkCXn+CRgbvJItknw=</td><td>fs1ZGhY=</td><td>E552F657-A9AF-4A7D-A645-C429D6E02491</td><td>2006-08-01T00:00:00Z</td></tr><tr><td>3</td><td>false</td><td>Ms.</td><td>Donna</td><td>F.</td><td>Carreras</td><td>null</td><td>Advanced Bike Components</td><td>adventure-works\\jillian0</td><td>donna0@adventure-works.com</td><td>279-555-0130</td><td>LNoK27abGQo48gGue3EBV/UrlYSToV0/s87dCRV7uJk=</td><td>YTNH5Rw=</td><td>130774B1-DB21-4EF3-98C8-C104BCD6ED6D</td><td>2005-09-01T00:00:00Z</td></tr><tr><td>4</td><td>false</td><td>Ms.</td><td>Janet</td><td>M.</td><td>Gates</td><td>null</td><td>Modular Cycle Systems</td><td>adventure-works\\jillian0</td><td>janet1@adventure-works.com</td><td>710-555-0173</td><td>ElzTpSNbUW1Ut+L5cWlfR7MF6nBZia8WpmGaQPjLOJA=</td><td>nm7D5e4=</td><td>FF862851-1DAA-4044-BE7C-3E85583C054D</td><td>2006-07-01T00:00:00Z</td></tr><tr><td>5</td><td>false</td><td>Mr.</td><td>Lucy</td><td>null</td><td>Harrington</td><td>null</td><td>Metropolitan Sports Supply</td><td>adventure-works\\shu0</td><td>lucy0@adventure-works.com</td><td>828-555-0186</td><td>KJqV15wsX3PG8TS5GSddp6LFFVdd3CoRftZM/tP0+R4=</td><td>cNFKU4w=</td><td>83905BDC-6F5E-4F71-B162-C98DA069F38A</td><td>2006-09-01T00:00:00Z</td></tr><tr><td>6</td><td>false</td><td>Ms.</td><td>Rosmarie</td><td>J.</td><td>Carroll</td><td>null</td><td>Aerobic Exercise Company</td><td>adventure-works\\linda3</td><td>rosmarie0@adventure-works.com</td><td>244-555-0112</td><td>OKT0scizCdIzymHHOtyJKQiC/fCILSooSZ8dQ2Y34VM=</td><td>ihWf50M=</td><td>1A92DF88-BFA2-467D-BD54-FCB9E647FDD7</td><td>2007-09-01T00:00:00Z</td></tr><tr><td>7</td><td>false</td><td>Mr.</td><td>Dominic</td><td>P.</td><td>Gash</td><td>null</td><td>Associated Bikes</td><td>adventure-works\\shu0</td><td>dominic0@adventure-works.com</td><td>192-555-0173</td><td>ZccoP/jZGQm+Xpzc7RKwDhS11YFNybwcPVRYTSNcnSg=</td><td>sPoUBSQ=</td><td>03E9273E-B193-448E-9823-FE0C44AEED78</td><td>2006-07-01T00:00:00Z</td></tr><tr><td>10</td><td>false</td><td>Ms.</td><td>Kathleen</td><td>M.</td><td>Garza</td><td>null</td><td>Rural Cycle Emporium</td><td>adventure-works\\josé1</td><td>kathleen0@adventure-works.com</td><td>150-555-0127</td><td>Qa3aMCxNbVLGrc0b99KsbQqiVgwYDfHcsK9GZSUxcTM=</td><td>Ls05W3g=</td><td>CDB6698D-2FF1-4FBA-8F22-60AD1D11DABD</td><td>2006-09-01T00:00:00Z</td></tr><tr><td>11</td><td>false</td><td>Ms.</td><td>Katherine</td><td>null</td><td>Harding</td><td>null</td><td>Sharp Bikes</td><td>adventure-works\\josé1</td><td>katherine0@adventure-works.com</td><td>926-555-0159</td><td>uRlorVzDGNJIX9I+ehTlRK+liT4UKRgWhApJgUMC2d4=</td><td>jpHKbqE=</td><td>750F3495-59C4-48A0-80E1-E37EC60E77D9</td><td>2005-08-01T00:00:00Z</td></tr><tr><td>12</td><td>false</td><td>Mr.</td><td>Johnny</td><td>A.</td><td>Caprio</td><td>Jr.</td><td>Bikes and Motorbikes</td><td>adventure-works\\garrett1</td><td>johnny0@adventure-works.com</td><td>112-555-0191</td><td>jtF9jBoFYeJTaET7x+eJDkd7BzMz15Wo9odbGPBaIak=</td><td>wVLnvHo=</td><td>947BCAF1-1F32-44F3-B9C3-0011F95FBE54</td><td>2006-08-01T00:00:00Z</td></tr></tbody></table></div>"
      ]
     },
     "metadata": {
      "application/vnd.databricks.v1+output": {
       "addedWidgets": {},
       "aggData": [],
       "aggError": "",
       "aggOverflow": false,
       "aggSchema": [],
       "aggSeriesLimitReached": false,
       "aggType": "",
       "arguments": {},
       "columnCustomDisplayInfos": {},
       "data": [
        [
         1,
         false,
         "Mr.",
         "Orlando",
         "N.",
         "Gee",
         null,
         "A Bike Store",
         "adventure-works\\pamela0",
         "orlando0@adventure-works.com",
         "245-555-0173",
         "L/Rlwxzp4w7RWmEgXX+/A7cXaePEPcp+KwQhl2fJL7w=",
         "1KjXYs4=",
         "3F5AE95E-B87D-4AED-95B4-C3797AFCB74F",
         "2005-08-01T00:00:00Z"
        ],
        [
         2,
         false,
         "Mr.",
         "Keith",
         null,
         "Harris",
         null,
         "Progressive Sports",
         "adventure-works\\david8",
         "keith0@adventure-works.com",
         "170-555-0127",
         "YPdtRdvqeAhj6wyxEsFdshBDNXxkCXn+CRgbvJItknw=",
         "fs1ZGhY=",
         "E552F657-A9AF-4A7D-A645-C429D6E02491",
         "2006-08-01T00:00:00Z"
        ],
        [
         3,
         false,
         "Ms.",
         "Donna",
         "F.",
         "Carreras",
         null,
         "Advanced Bike Components",
         "adventure-works\\jillian0",
         "donna0@adventure-works.com",
         "279-555-0130",
         "LNoK27abGQo48gGue3EBV/UrlYSToV0/s87dCRV7uJk=",
         "YTNH5Rw=",
         "130774B1-DB21-4EF3-98C8-C104BCD6ED6D",
         "2005-09-01T00:00:00Z"
        ],
        [
         4,
         false,
         "Ms.",
         "Janet",
         "M.",
         "Gates",
         null,
         "Modular Cycle Systems",
         "adventure-works\\jillian0",
         "janet1@adventure-works.com",
         "710-555-0173",
         "ElzTpSNbUW1Ut+L5cWlfR7MF6nBZia8WpmGaQPjLOJA=",
         "nm7D5e4=",
         "FF862851-1DAA-4044-BE7C-3E85583C054D",
         "2006-07-01T00:00:00Z"
        ],
        [
         5,
         false,
         "Mr.",
         "Lucy",
         null,
         "Harrington",
         null,
         "Metropolitan Sports Supply",
         "adventure-works\\shu0",
         "lucy0@adventure-works.com",
         "828-555-0186",
         "KJqV15wsX3PG8TS5GSddp6LFFVdd3CoRftZM/tP0+R4=",
         "cNFKU4w=",
         "83905BDC-6F5E-4F71-B162-C98DA069F38A",
         "2006-09-01T00:00:00Z"
        ],
        [
         6,
         false,
         "Ms.",
         "Rosmarie",
         "J.",
         "Carroll",
         null,
         "Aerobic Exercise Company",
         "adventure-works\\linda3",
         "rosmarie0@adventure-works.com",
         "244-555-0112",
         "OKT0scizCdIzymHHOtyJKQiC/fCILSooSZ8dQ2Y34VM=",
         "ihWf50M=",
         "1A92DF88-BFA2-467D-BD54-FCB9E647FDD7",
         "2007-09-01T00:00:00Z"
        ],
        [
         7,
         false,
         "Mr.",
         "Dominic",
         "P.",
         "Gash",
         null,
         "Associated Bikes",
         "adventure-works\\shu0",
         "dominic0@adventure-works.com",
         "192-555-0173",
         "ZccoP/jZGQm+Xpzc7RKwDhS11YFNybwcPVRYTSNcnSg=",
         "sPoUBSQ=",
         "03E9273E-B193-448E-9823-FE0C44AEED78",
         "2006-07-01T00:00:00Z"
        ],
        [
         10,
         false,
         "Ms.",
         "Kathleen",
         "M.",
         "Garza",
         null,
         "Rural Cycle Emporium",
         "adventure-works\\josé1",
         "kathleen0@adventure-works.com",
         "150-555-0127",
         "Qa3aMCxNbVLGrc0b99KsbQqiVgwYDfHcsK9GZSUxcTM=",
         "Ls05W3g=",
         "CDB6698D-2FF1-4FBA-8F22-60AD1D11DABD",
         "2006-09-01T00:00:00Z"
        ],
        [
         11,
         false,
         "Ms.",
         "Katherine",
         null,
         "Harding",
         null,
         "Sharp Bikes",
         "adventure-works\\josé1",
         "katherine0@adventure-works.com",
         "926-555-0159",
         "uRlorVzDGNJIX9I+ehTlRK+liT4UKRgWhApJgUMC2d4=",
         "jpHKbqE=",
         "750F3495-59C4-48A0-80E1-E37EC60E77D9",
         "2005-08-01T00:00:00Z"
        ],
        [
         12,
         false,
         "Mr.",
         "Johnny",
         "A.",
         "Caprio",
         "Jr.",
         "Bikes and Motorbikes",
         "adventure-works\\garrett1",
         "johnny0@adventure-works.com",
         "112-555-0191",
         "jtF9jBoFYeJTaET7x+eJDkd7BzMz15Wo9odbGPBaIak=",
         "wVLnvHo=",
         "947BCAF1-1F32-44F3-B9C3-0011F95FBE54",
         "2006-08-01T00:00:00Z"
        ]
       ],
       "datasetInfos": [],
       "dbfsResultPath": null,
       "isJsonSchema": true,
       "metadata": {},
       "overflow": false,
       "plotOptions": {
        "customPlotOptions": {},
        "displayType": "table",
        "pivotAggregation": null,
        "pivotColumns": null,
        "xColumns": null,
        "yColumns": null
       },
       "removedWidgets": [],
       "schema": [
        {
         "metadata": "{\"scale\":0}",
         "name": "CustomerID",
         "type": "\"integer\""
        },
        {
         "metadata": "{\"scale\":0}",
         "name": "NameStyle",
         "type": "\"boolean\""
        },
        {
         "metadata": "{\"scale\":0}",
         "name": "Title",
         "type": "\"string\""
        },
        {
         "metadata": "{\"scale\":0}",
         "name": "FirstName",
         "type": "\"string\""
        },
        {
         "metadata": "{\"scale\":0}",
         "name": "MiddleName",
         "type": "\"string\""
        },
        {
         "metadata": "{\"scale\":0}",
         "name": "LastName",
         "type": "\"string\""
        },
        {
         "metadata": "{\"scale\":0}",
         "name": "Suffix",
         "type": "\"string\""
        },
        {
         "metadata": "{\"scale\":0}",
         "name": "CompanyName",
         "type": "\"string\""
        },
        {
         "metadata": "{\"scale\":0}",
         "name": "SalesPerson",
         "type": "\"string\""
        },
        {
         "metadata": "{\"scale\":0}",
         "name": "EmailAddress",
         "type": "\"string\""
        },
        {
         "metadata": "{\"scale\":0}",
         "name": "Phone",
         "type": "\"string\""
        },
        {
         "metadata": "{\"__CHAR_VARCHAR_TYPE_STRING\":\"varchar(128)\",\"scale\":0}",
         "name": "PasswordHash",
         "type": "\"string\""
        },
        {
         "metadata": "{\"__CHAR_VARCHAR_TYPE_STRING\":\"varchar(10)\",\"scale\":0}",
         "name": "PasswordSalt",
         "type": "\"string\""
        },
        {
         "metadata": "{\"__CHAR_VARCHAR_TYPE_STRING\":\"char(36)\",\"scale\":0}",
         "name": "rowguid",
         "type": "\"string\""
        },
        {
         "metadata": "{\"scale\":3}",
         "name": "ModifiedDate",
         "type": "\"timestamp\""
        }
       ],
       "type": "table"
      }
     },
     "output_type": "display_data"
    },
    {
     "output_type": "execute_result",
     "data": {
      "text/plain": [
       "847"
      ]
     },
     "execution_count": 33,
     "metadata": {},
     "output_type": "execute_result"
    }
   ],
=======
   "outputs": [],
>>>>>>> 2a819504e865dc09ebe7216974fd3a9e03441a89
   "source": [
    "driver = \"com.microsoft.sqlserver.jdbc.SQLServerDriver\"\n",
    "url = \"jdbc:sqlserver://azure-sql-server-1111.database.windows.net:1433;database=azure-sql-db-111\"\n",
    "username = \"myuser\"\n",
    "password = \"mypass@123\"  \n",
    "table = \"[SalesLT].[Customer]\"\n",
    "\n",
    "\n",
    "customer_df = (spark.read\n",
    "                   .format(\"jdbc\")\n",
    "                   .option(\"driver\", driver)\n",
    "                   .option(\"url\", url)\n",
    "                   .option(\"dbtable\", table)\n",
    "                   .option(\"user\", username)\n",
    "                   .option(\"password\", password)\n",
    "                   .load())\n",
    "\n",
    "display(customer_df.limit(10))\n",
    "customer_df.count()"
   ]
  },
  {
   "cell_type": "code",
   "execution_count": 0,
   "metadata": {
    "application/vnd.databricks.v1+cell": {
     "cellMetadata": {
      "byteLimit": 2048000,
      "rowLimit": 10000
     },
     "inputWidgets": {},
     "nuid": "9c3dfcae-18a6-42a7-b9d5-7c19517bab98",
     "showTitle": true,
     "title": "hardCoded data"
    }
   },
   "outputs": [],
   "source": [
    "emp_data = [\n",
    "    (1, \"John Doe\", \"Male\", 60000.0, \"USA\"),\n",
    "    (2, \"Jane Smith\", \"Female\", 55000.0, \"Canada\"),\n",
    "    (3, \"Alice Johnson\", \"Female\", 65000.0, \"UK\"),\n",
    "    (4, \"Bob Williams\", \"Male\", 62000.0, \"Australia\"),\n",
    "    (5, \"Eve Davis\", \"Female\", 70000.0, \"India\"),\n",
    "    (5, \"Eve Davis\", \"Female\", 70000.0, \"India\"),\n",
    "    (6, \"Charlie Brown\", \"Male\", 58000.0, \"Germany\"),\n",
    "    (7, \"Diana Miller\", \"Female\", 60000.0, \"France\"),\n",
    "    (8, \"Frank Johnson\", \"Male\", 62000.0, \"Spain\"),\n",
    "    (9, \"Grace Wilson\", \"Female\", 54000.0, \"Italy\"),\n",
    "    (10, \"Henry Davis\", \"Male\", 68000.0, \"Japan\"),\n",
    "    (9, \"Grace Wilson\", \"Female\", 54000.0, \"Italy\"),\n",
    "    (10, \"Henry Davis\", \"Male\", 68000.0, \"Japan\"),\n",
    "    (11, \"Isabel Clark\", \"Female\", 59000.0, \"Brazil\"),\n",
    "    (12, \"Jack Turner\", \"Male\", 63000.0, \"Mexico\"),\n",
    "    (13, \"Katherine White\", \"Female\", 67000.0, \"South Africa\"),\n",
    "    (14, \"Louis Harris\", \"Male\", 56000.0, \"Russia\"),\n",
    "    (15, \"Mia Lee\", \"Female\", 61000.0, \"China\"),\n",
    "    (14, \"Louis Harris\", \"Male\", 56000.0, \"Russia\"),\n",
    "    (15, \"Mia Lee\", \"Female\", 61000.0, \"China\")\n",
    "]\n",
    "\n",
    "emp_schema = StructType([\n",
    "    StructField(\"empId\", IntegerType(), True),\n",
    "    StructField(\"empName\", StringType(), True),\n",
    "    StructField(\"empGender\", StringType(), True),\n",
    "    StructField(\"empSalary\", FloatType(), True),\n",
    "    StructField(\"empCountry\", StringType(), True)\n",
    "])\n",
    "\n",
    "df_sample = spark.createDataFrame(data=emp_data, schema=emp_schema)\n",
    "\n",
    "df_sample.show(5)"
   ]
  },
  {
   "cell_type": "markdown",
   "metadata": {
    "application/vnd.databricks.v1+cell": {
     "cellMetadata": {
      "byteLimit": 2048000,
      "rowLimit": 10000
     },
     "inputWidgets": {},
     "nuid": "65ae06ad-cdf5-48a0-8b31-4a782a057005",
     "showTitle": false,
     "title": ""
    }
   },
   "source": [
    "# Transformations on Dataframes"
   ]
  },
  {
   "cell_type": "code",
   "execution_count": 0,
   "metadata": {
    "application/vnd.databricks.v1+cell": {
     "cellMetadata": {
      "byteLimit": 2048000,
      "rowLimit": 10000
     },
     "inputWidgets": {},
     "nuid": "eb87c396-451f-4fea-a8a7-ae27b694be98",
     "showTitle": false,
     "title": ""
    }
   },
   "outputs": [],
   "source": [
    "# add two more columns\n",
    "    # origin ==> constant column ==> \"India\"\n",
    "    # tax ==> derived column ==> \"12%(salary)\"\n",
    "\n",
    "# withColumn() : to add columns\n",
    "\n",
    "from pyspark.sql.functions import lit\n",
    "\n",
    "df2 = df_sample.withColumn(\"origin\", lit(\"india\")) \\\n",
    "               .withColumn(\"tax\", df_sample.empSalary * 0.12)\n",
    "\n",
    "display(df2.limit(5))"
   ]
  },
  {
   "cell_type": "code",
   "execution_count": 0,
   "metadata": {
    "application/vnd.databricks.v1+cell": {
     "cellMetadata": {
      "byteLimit": 2048000,
      "rowLimit": 10000
     },
     "inputWidgets": {},
     "nuid": "e240256b-9f82-450c-a63b-c2cc0d6453c1",
     "showTitle": false,
     "title": ""
    }
   },
   "outputs": [],
   "source": [
    "# withColumnRenamed() : to rename the columns\n",
    "    # two columns => country, tax\n",
    "\n",
    "df3 = df2.withColumnRenamed(\"origin\", \"empOrigin\") \\\n",
    "         .withColumnRenamed(\"tax\", \"empTax\")\n",
    "\n",
    "display(df3.limit(5))"
   ]
  },
  {
   "cell_type": "code",
   "execution_count": 0,
   "metadata": {
    "application/vnd.databricks.v1+cell": {
     "cellMetadata": {
      "byteLimit": 2048000,
      "rowLimit": 10000
     },
     "inputWidgets": {},
     "nuid": "ba0bd47a-eba0-47bb-b57a-fc58ce7a8478",
     "showTitle": false,
     "title": ""
    }
   },
   "outputs": [],
   "source": [
    "from pyspark.sql.functions import col\n",
    "\n",
    "df3.select(\"empId\", df3.empName, col(\"empGender\")).show(5)"
   ]
  },
  {
   "cell_type": "code",
   "execution_count": 0,
   "metadata": {
    "application/vnd.databricks.v1+cell": {
     "cellMetadata": {
      "byteLimit": 2048000,
      "rowLimit": 10000
     },
     "inputWidgets": {},
     "nuid": "7d60b9ee-af01-4f51-8a8c-99f17ade7551",
     "showTitle": false,
     "title": ""
    }
   },
   "outputs": [],
   "source": [
    "df3.show(5)"
   ]
  },
  {
   "cell_type": "code",
   "execution_count": 0,
   "metadata": {
    "application/vnd.databricks.v1+cell": {
     "cellMetadata": {
      "byteLimit": 2048000,
      "rowLimit": 10000
     },
     "inputWidgets": {},
     "nuid": "b5951ce9-41c8-43dd-8ee5-38dd549acae2",
     "showTitle": false,
     "title": ""
    }
   },
   "outputs": [],
   "source": [
    "# case conditions : when(), otherwise()\n",
    "    # male ==> m\n",
    "    # female ==> f\n",
    "    # unknown ==> u\n",
    "\n",
    "\n",
    "from pyspark.sql.functions import when\n",
    "\n",
    "df4 = df3.select(\n",
    "    \"empId\",\n",
    "    \"empName\",\n",
    "    when(df3.empGender == \"Male\", \"m\").when(df3.empGender == \"Female\", \"f\").otherwise(\"u\").alias(\"empGender\"),\n",
    "    \"empSalary\",\n",
    "    \"empCountry\", \n",
    "    \"empOrigin\", \n",
    "    \"empTax\"\n",
    "    )\n",
    "\n",
    "df4.show(5)"
   ]
  },
  {
   "cell_type": "code",
   "execution_count": 0,
   "metadata": {
    "application/vnd.databricks.v1+cell": {
     "cellMetadata": {
      "byteLimit": 2048000,
      "rowLimit": 10000
     },
     "inputWidgets": {},
     "nuid": "d645e938-6ce2-4811-a333-0315534492c8",
     "showTitle": false,
     "title": ""
    }
   },
   "outputs": [],
   "source": [
    "# orderBy() or sort() : to sort the data based on columns\n",
    "\n",
    "df4.sort(df4.empSalary.desc()).show()"
   ]
  },
  {
   "cell_type": "code",
   "execution_count": 0,
   "metadata": {
    "application/vnd.databricks.v1+cell": {
     "cellMetadata": {
      "byteLimit": 2048000,
      "rowLimit": 10000
     },
     "inputWidgets": {},
     "nuid": "cdd73a0b-70cb-4235-a35e-e40aa1b37d48",
     "showTitle": false,
     "title": ""
    }
   },
   "outputs": [],
   "source": [
    "# dropDuplicates() : to remove the duplicates\n",
    "\n",
    "df4.dropDuplicates().orderBy(df4.empSalary.desc()).show()"
   ]
  },
  {
   "cell_type": "code",
   "execution_count": 0,
   "metadata": {
    "application/vnd.databricks.v1+cell": {
     "cellMetadata": {
      "byteLimit": 2048000,
      "rowLimit": 10000
     },
     "inputWidgets": {},
     "nuid": "e2607ed0-ba0f-4512-80f0-20d5c49a9912",
     "showTitle": false,
     "title": ""
    }
   },
   "outputs": [],
   "source": [
    "## where() or filter() : to filter the data\n",
    "\n",
    "(df4\n",
    "    .dropDuplicates()\n",
    "    .filter((df4.empSalary > 55000) & (df4.empGender == 'f') & (df4.empName.like(\"%e\")))\n",
    "    .sort(df4.empSalary.desc())\n",
    "    .show())"
   ]
  },
  {
   "cell_type": "code",
   "execution_count": 0,
   "metadata": {
    "application/vnd.databricks.v1+cell": {
     "cellMetadata": {
      "byteLimit": 2048000,
      "rowLimit": 10000
     },
     "inputWidgets": {},
     "nuid": "23344202-2703-4e54-9294-002f9478df9a",
     "showTitle": false,
     "title": ""
    }
   },
   "outputs": [],
   "source": [
    "data=[(1, 'anil', 'M', 5000, 'IT'),\\\n",
    "      (2, 'sandeep', 'M',6000, 'IT'),\\\n",
    "      (3, 'riya', 'F',2500, 'payroll'),\\\n",
    "      (4, 'prteek', 'M',4000, 'HR'),\\\n",
    "      (5, 'vani', 'F',2000, 'HR'),\\\n",
    "      (6, 'sunil', 'M', 2000, 'payroll'),\\\n",
    "      (7, 'diksha', 'F',3000, 'IT'),\n",
    "      (8, 'rajesh', 'M', 4500, 'Finance'),\n",
    "      (9, 'neha', 'F', 3500, 'Finance'),\n",
    "      (10, 'amit', 'M', 3000, 'HR'),\n",
    "      (11, 'pooja', 'F', 5500, 'IT'),\n",
    "      (12, 'rohit', 'M', 6000, 'IT')\n",
    "      ]\n",
    "\n",
    "# Define the schema for the data\n",
    "schema = StructType([\n",
    "    StructField(\"empId\", IntegerType(), True),\n",
    "    StructField(\"empName\", StringType(), True),\n",
    "    StructField(\"empGender\", StringType(), True),\n",
    "    StructField(\"empSalary\", IntegerType(), True),\n",
    "    StructField(\"empDepartment\", StringType(), True)\n",
    "])\n",
    "\n",
    "df = spark.createDataFrame(data, schema)\n",
    "df.show()\n",
    "df.printSchema()"
   ]
  },
  {
   "cell_type": "code",
   "execution_count": 0,
   "metadata": {
    "application/vnd.databricks.v1+cell": {
     "cellMetadata": {
      "byteLimit": 2048000,
      "rowLimit": 10000
     },
     "inputWidgets": {},
     "nuid": "11b59cc1-b8f7-4851-aca2-475bf789adbe",
     "showTitle": false,
     "title": ""
    }
   },
   "outputs": [],
   "source": [
    "# aggregate functions : count, max, min, sum, avg\n",
    "\n",
    "from pyspark.sql.functions import count, max, min, sum, avg\n",
    "\n",
    "df.agg(count(\"*\").alias(\"totalEmpCount\")).show()\n",
    "df.agg(max(\"empSalary\").alias(\"maxSalary\")).show()\n",
    "df.agg(min(\"empSalary\").alias(\"minSalary\")).show()\n",
    "df.agg(avg(\"empSalary\").alias(\"avgSalary\")).show()\n",
    "df.agg(sum(\"empSalary\").alias(\"sumSalary\")).show()\n"
   ]
  },
  {
   "cell_type": "code",
   "execution_count": 0,
   "metadata": {
    "application/vnd.databricks.v1+cell": {
     "cellMetadata": {
      "byteLimit": 2048000,
      "rowLimit": 10000
     },
     "inputWidgets": {},
     "nuid": "d70a75be-330e-464a-a0fa-c8906395562a",
     "showTitle": false,
     "title": ""
    }
   },
   "outputs": [],
   "source": [
    "df.agg(\n",
    "    count(\"*\").alias(\"totalEmpCount\"),\n",
    "    max(\"empSalary\").alias(\"maxSalary\"),\n",
    "    min(\"empSalary\").alias(\"minSalary\"),\n",
    "    avg(\"empSalary\").alias(\"avgSalary\"),\n",
    "    sum(\"empSalary\").alias(\"sumSalary\")\n",
    ").show()"
   ]
  },
  {
   "cell_type": "code",
   "execution_count": 0,
   "metadata": {
    "application/vnd.databricks.v1+cell": {
     "cellMetadata": {
      "byteLimit": 2048000,
      "rowLimit": 10000
     },
     "inputWidgets": {},
     "nuid": "d892f715-c46f-4757-978d-ba002888b630",
     "showTitle": false,
     "title": ""
    }
   },
   "outputs": [],
   "source": [
    "# groupBy() : to group the data\n",
    "\n",
    "df.groupBy(\"empDepartment\").agg(\n",
    "                                count(\"*\").alias(\"totalEmpCount\"),\n",
    "                                max(\"empSalary\").alias(\"maxSalary\"),\n",
    "                                min(\"empSalary\").alias(\"minSalary\"),\n",
    "                                avg(\"empSalary\").alias(\"avgSalary\"),\n",
    "                                sum(\"empSalary\").alias(\"sumSalary\")\n",
    "                            ).show()"
   ]
  },
  {
   "cell_type": "code",
   "execution_count": 0,
   "metadata": {
    "application/vnd.databricks.v1+cell": {
     "cellMetadata": {
      "byteLimit": 2048000,
      "rowLimit": 10000
     },
     "inputWidgets": {},
     "nuid": "185e50b3-8567-4d3e-a01e-8a9dfce330c6",
     "showTitle": false,
     "title": ""
    }
   },
   "outputs": [],
   "source": [
    "# union / unionAll : to merge the data vertically (both works same way, allows duplicates)\n",
    "\n",
    "data1 = [(1, 'Anil',27), \n",
    "         (2, 'sandeep', 28), \n",
    "         (3, 'riya', 29)]  #jan\n",
    "schema1 = ['id', 'name', 'age']\n",
    "\n",
    "data2 = [(3, 'riya', 29), \n",
    "         (4, 'rani', 26)] #feb\n",
    "schema2 = ['id', 'name', 'age']\n",
    "\n",
    "data3 = [(5, 'liya', 29), \n",
    "         (6, 'mani', 26)] #march\n",
    "schema3 = ['id', 'name', 'age']\n",
    "\n",
    "df1 = spark.createDataFrame(data1, schema1)\n",
    "df2 = spark.createDataFrame(data2, schema2)\n",
    "df3 = spark.createDataFrame(data3, schema3)\n",
    "\n",
    "df1.show()\n",
    "df2.show()\n",
    "df3.show()"
   ]
  },
  {
   "cell_type": "code",
   "execution_count": 0,
   "metadata": {
    "application/vnd.databricks.v1+cell": {
     "cellMetadata": {
      "byteLimit": 2048000,
      "rowLimit": 10000
     },
     "inputWidgets": {},
     "nuid": "173903a4-4108-4ab1-96fe-6a4b2fe48fac",
     "showTitle": false,
     "title": ""
    }
   },
   "outputs": [],
   "source": [
    "df_union = df1.union(df2).union(df3)\n",
    "\n",
    "df_union.dropDuplicates().sort(\"id\").show()"
   ]
  },
  {
   "cell_type": "code",
   "execution_count": 0,
   "metadata": {
    "application/vnd.databricks.v1+cell": {
     "cellMetadata": {
      "byteLimit": 2048000,
      "rowLimit": 10000
     },
     "inputWidgets": {},
     "nuid": "d32e8ec2-87b8-4507-b06c-2ad7616dacbf",
     "showTitle": false,
     "title": ""
    }
   },
   "outputs": [],
   "source": [
    "emp_data = [\n",
    "    (1, \"John\", 1, 50000, 1),\n",
    "    (2, \"Alice\", 2, 60000, 2),\n",
    "    (3, \"Bob\", 3, 55000, 2),\n",
    "    (2, \"Alice\", 2, 60000, 2),\n",
    "    (3, \"Bob\", 3, 55000, 2),\n",
    "    (4, \"Jane\", 4, 52000, 3),\n",
    "    (5, \"Eve\", None, 48000, 4),\n",
    "    (6, \"Charlie\", 4, 47000, None),\n",
    "    (7, \"David\", 2, 55000, 3),\n",
    "    (8, \"Linda\", 3, 53000, 1),\n",
    "    (9, \"Frank\", None, 59000, 4),\n",
    "    (7, \"David\", 2, 55000, 3),\n",
    "    (8, \"Linda\", 3, 53000, None),\n",
    "    (9, \"Frank\", 1, 59000, 4),\n",
    "    (10, \"Grace\",1, 49000, None),\n",
    "    (10, \"Grace\",1, 49000, 4)]\n",
    "emp_schema = [\"empId\", \"empName\", \"deptId\", \"empSalary\", \"cityId\"]\n",
    "\n",
    "dept_data = [\n",
    "    (1, \"HR\"),\n",
    "    (2, \"IT\"),\n",
    "    (3, \"Sales\"),\n",
    "    (4, \"Finance\"),\n",
    "]\n",
    "dept_schema = [\"deptId\", \"deptName\"]\n",
    "\n",
    "address_data = [\n",
    "    (1, \"hyd\"),\n",
    "    (2, \"blr\"),\n",
    "    (3, \"chn\"),\n",
    "    (4, \"kkt\")\n",
    "]\n",
    "add_schema = [\"cityId\", \"cityName\"]\n",
    "\n",
    "print(\"emp_df :\")\n",
    "emp_df = spark.createDataFrame(emp_data,emp_schema)\n",
    "emp_df.show()\n",
    "\n",
    "print(\"dept_df :\")\n",
    "dept_df = spark.createDataFrame(dept_data,dept_schema)\n",
    "dept_df.show()\n",
    "\n",
    "print(\"address_df :\")\n",
    "address_df = spark.createDataFrame(address_data,add_schema)\n",
    "address_df.show()"
   ]
  },
  {
   "cell_type": "code",
   "execution_count": 0,
   "metadata": {
    "application/vnd.databricks.v1+cell": {
     "cellMetadata": {
      "byteLimit": 2048000,
      "rowLimit": 10000
     },
     "inputWidgets": {},
     "nuid": "efc9d710-c8a5-430a-9e39-3adefd5d3c44",
     "showTitle": false,
     "title": ""
    }
   },
<<<<<<< HEAD
   "outputs": [
    {
     "output_type": "stream",
     "name": "stdout",
     "output_type": "stream",
     "text": [
      "+-----+-------+---------+------+--------+------+--------+-----------------------+\n|empId|empName|empSalary|deptId|deptName|cityId|cityName|createdAt              |\n+-----+-------+---------+------+--------+------+--------+-----------------------+\n|4    |Jane   |52000    |4     |Finance |3     |chn     |2024-10-14 10:09:45.405|\n|7    |David  |55000    |2     |IT      |3     |chn     |2024-10-14 10:09:45.405|\n+-----+-------+---------+------+--------+------+--------+-----------------------+\n\n"
     ]
    }
   ],
=======
   "outputs": [],
>>>>>>> 2a819504e865dc09ebe7216974fd3a9e03441a89
   "source": [
    "## joins types : inner, left, right, full, cross, self\n",
    "\n",
    "from pyspark.sql.functions import col, current_timestamp\n",
    "\n",
    "df_inner = (emp_df.join(dept_df, emp_df.deptId == dept_df.deptId, \"inner\")\n",
    "                  .join(address_df, emp_df.cityId == address_df.cityId, \"inner\")\n",
    "                  .drop(emp_df.cityId, emp_df.deptId)\n",
    "                  .dropDuplicates()\n",
    "                  .sort(\"empId\")\n",
    "                  .filter(col(\"CityName\") == \"chn\")\n",
    "                  .withColumn(\"createdAt\", current_timestamp())\n",
    ")\n",
    "\n",
    "\n",
    "df_inner.show(truncate=False)"
   ]
  },
  {
   "cell_type": "code",
   "execution_count": 0,
   "metadata": {
    "application/vnd.databricks.v1+cell": {
     "cellMetadata": {
      "byteLimit": 2048000,
      "rowLimit": 10000
     },
     "inputWidgets": {},
     "nuid": "8b759bef-f77e-408c-a302-f3b7d32e7baa",
     "showTitle": false,
     "title": ""
    }
   },
<<<<<<< HEAD
   "outputs": [
    {
     "output_type": "stream",
     "name": "stdout",
     "output_type": "stream",
     "text": [
      "+-----+-------+---------+------+--------+------+--------+-----------------------+\n|empId|empName|empSalary|deptId|deptName|cityId|cityName|createdAt              |\n+-----+-------+---------+------+--------+------+--------+-----------------------+\n|4    |Jane   |52000    |4     |Finance |3     |chn     |2024-10-14 10:09:46.625|\n|7    |David  |55000    |2     |IT      |3     |chn     |2024-10-14 10:09:46.625|\n+-----+-------+---------+------+--------+------+--------+-----------------------+\n\n"
     ]
    }
   ],
=======
   "outputs": [],
>>>>>>> 2a819504e865dc09ebe7216974fd3a9e03441a89
   "source": [
    "df_full = (emp_df.join(dept_df, emp_df.deptId == dept_df.deptId, \"full\")\n",
    "                  .join(address_df, emp_df.cityId == address_df.cityId, \"full\")\n",
    "                  .drop(emp_df.cityId, emp_df.deptId)\n",
    "                  .dropDuplicates([\"empId\"])\n",
    "                  .sort(\"empId\")\n",
    "                  .filter(col(\"CityName\") == \"chn\")\n",
    "                  .withColumn(\"createdAt\", current_timestamp())\n",
    ")\n",
    "\n",
    "df_full.show(truncate=False)"
   ]
  },
  {
   "cell_type": "code",
   "execution_count": 0,
   "metadata": {
    "application/vnd.databricks.v1+cell": {
     "cellMetadata": {},
     "inputWidgets": {},
     "nuid": "c681129d-e716-44e2-a9bd-0b60e6d946dd",
     "showTitle": false,
     "title": ""
    }
   },
   "outputs": [],
   "source": []
  }
 ],
 "metadata": {
  "application/vnd.databricks.v1+notebook": {
   "dashboards": [],
   "environmentMetadata": null,
   "language": "python",
   "notebookMetadata": {
    "pythonIndentUnit": 4
   },
   "notebookName": "1.3 - Dataframes and Operations",
   "widgets": {}
  }
 },
 "nbformat": 4,
 "nbformat_minor": 0
}
